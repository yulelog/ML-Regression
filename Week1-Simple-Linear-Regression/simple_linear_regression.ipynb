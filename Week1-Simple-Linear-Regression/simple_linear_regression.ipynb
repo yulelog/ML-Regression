{
 "cells": [
  {
   "cell_type": "code",
   "execution_count": 1,
   "id": "clinical-perth",
   "metadata": {},
   "outputs": [],
   "source": [
    "import pandas as pd"
   ]
  },
  {
   "cell_type": "code",
   "execution_count": 2,
   "id": "stable-honor",
   "metadata": {},
   "outputs": [],
   "source": [
    "train_data = pd.read_csv('kc_house_train_data.csv')\n",
    "test_data = pd.read_csv('kc_house_test_data.csv')"
   ]
  },
  {
   "cell_type": "code",
   "execution_count": 3,
   "id": "comprehensive-holiday",
   "metadata": {},
   "outputs": [],
   "source": [
    "def simple_linear_regression(input_feature, output):\n",
    "    \"\"\"\n",
    "    Given a column of input feature data and a column of output data, \n",
    "    calculate the simple linear regression parameters - intercept and slope -- based on closed form solution\n",
    "    :param input_feature: a column of input feature\n",
    "    :param output: a column of output data\n",
    "    :return intercept: single number value of the intercept\n",
    "    :return slope: single number value of the slope\n",
    "    \"\"\"\n",
    "    slope = (sum(input_feature*output) - sum(input_feature)*sum(output)/len(output))/(sum(input_feature**2)-sum(input_feature)*sum(input_feature)/len(input_feature))\n",
    "    intercept = sum(output)/len(output) - slope*sum(input_feature)/len(output)\n",
    "    \n",
    "    return intercept, slope"
   ]
  },
  {
   "cell_type": "code",
   "execution_count": 4,
   "id": "upset-metropolitan",
   "metadata": {},
   "outputs": [],
   "source": [
    "def get_regression_predictions(input_feature, intercept, slope):\n",
    "    \"\"\"\n",
    "    Predict the output based on the input feature, intercept and slope given\n",
    "    \"\"\"\n",
    "    predicted_output = intercept + input_feature*slope\n",
    "    return predicted_output"
   ]
  },
  {
   "cell_type": "code",
   "execution_count": 5,
   "id": "protective-trademark",
   "metadata": {},
   "outputs": [],
   "source": [
    "def get_residual_sum_of_squares(input_feature, output, intercept,slope):\n",
    "    \"\"\"\n",
    "    Get RSS -the sum of the squares of the prediction errors (difference between output and prediction\n",
    "    \"\"\"\n",
    "    rss = sum((output - (intercept+input_feature*slope))**2)\n",
    "    return rss\n"
   ]
  },
  {
   "cell_type": "code",
   "execution_count": 6,
   "id": "molecular-commodity",
   "metadata": {},
   "outputs": [],
   "source": [
    "def inverse_regression_predictions(output, intercept, slope):\n",
    "    \"\"\"\n",
    "    Given an ‘output’ column and the regression parameters ‘slope’ and ‘intercept’,\n",
    "    outputs the column of data ‘estimated_input’\n",
    "    \"\"\"\n",
    "    estimated_input = (output-intercept)/slope\n",
    "    return estimated_input"
   ]
  },
  {
   "cell_type": "code",
   "execution_count": 7,
   "id": "relative-oasis",
   "metadata": {},
   "outputs": [],
   "source": [
    "# Build simple linear regression model based on 'sqft_living' as the input feature, and 'price' as the outcome\n",
    "input_feature = train_data['sqft_living']\n",
    "output = train_data['price']\n",
    "squarefeet_intercept, squarefeet_slope = simple_linear_regression(input_feature, output)"
   ]
  },
  {
   "cell_type": "code",
   "execution_count": 8,
   "id": "southern-requirement",
   "metadata": {},
   "outputs": [
    {
     "name": "stdout",
     "output_type": "stream",
     "text": [
      "Predicted price for a house with 2650 sqft 700074.8459475137\n",
      "RSS of the model:  1201918354177286.2\n",
      "The estimated square-feet for a house costing $800,000 is:  3004.3962451522766\n"
     ]
    }
   ],
   "source": [
    "print(\"Predicted price for a house with 2650 sqft\", get_regression_predictions(2650, squarefeet_intercept, squarefeet_slope))\n",
    "print(\"RSS of the model: \", get_residual_sum_of_squares(input_feature, output, squarefeet_intercept, squarefeet_slope))\n",
    "print(\"The estimated square-feet for a house costing $800,000 is: \", inverse_regression_predictions(800000, squarefeet_intercept, squarefeet_slope))"
   ]
  },
  {
   "cell_type": "code",
   "execution_count": 9,
   "id": "resistant-walker",
   "metadata": {},
   "outputs": [
    {
     "name": "stdout",
     "output_type": "stream",
     "text": [
      "RSS of the model:  2143244498162069.0\n"
     ]
    }
   ],
   "source": [
    "# Build simple linear regression model based on 'bedrooms' as the input feature, and 'price' as the outcome\n",
    "bedroom_slope, bedroom_intercept = simple_linear_regression(train_data['bedrooms'], output)\n",
    "print(\"RSS of the model: \", get_residual_sum_of_squares(train_data['bedrooms'], output, bedroom_slope, bedroom_intercept))"
   ]
  }
 ],
 "metadata": {
  "kernelspec": {
   "display_name": "Python 3",
   "language": "python",
   "name": "python3"
  },
  "language_info": {
   "codemirror_mode": {
    "name": "ipython",
    "version": 3
   },
   "file_extension": ".py",
   "mimetype": "text/x-python",
   "name": "python",
   "nbconvert_exporter": "python",
   "pygments_lexer": "ipython3",
   "version": "3.9.1"
  }
 },
 "nbformat": 4,
 "nbformat_minor": 5
}
