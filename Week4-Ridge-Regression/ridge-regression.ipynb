{
 "cells": [
  {
   "cell_type": "code",
   "execution_count": 1,
   "id": "wrapped-exploration",
   "metadata": {},
   "outputs": [],
   "source": [
    "import pandas as pd\n",
    "from sklearn import linear_model\n",
    "import numpy as np"
   ]
  },
  {
   "cell_type": "markdown",
   "id": "attached-sense",
   "metadata": {},
   "source": [
    "### Observing effects of L2 penalty in polynomial regression ###"
   ]
  },
  {
   "cell_type": "code",
   "execution_count": 2,
   "id": "measured-administration",
   "metadata": {},
   "outputs": [],
   "source": [
    "# function copyied from previous module\n",
    "\n",
    "def polynomial_dataframe(feature, degree): \n",
    "    \"\"\"\n",
    "    Takes an array of 'feature' and a maximal 'degree', \n",
    "    and return a data frame with the first column equal to 'feature'\n",
    "    and the remaining columns equal to ‘feature’ to increasing integer powers up to 'degree'\n",
    "    :param feature: pandas Series\n",
    "    :param degree: int >=1\n",
    "    :return : a dataframe of the feature columns\n",
    "    \"\"\"\n",
    "    poly_dataframe = pd.DataFrame()\n",
    "    poly_dataframe['power_1'] = feature\n",
    "\n",
    "    if degree > 1:\n",
    "        for power in range(2, degree+1):\n",
    "            name = 'power_' + str(power)\n",
    "            poly_dataframe[name] = feature.apply(lambda x: x**power)\n",
    "    return poly_dataframe"
   ]
  },
  {
   "cell_type": "code",
   "execution_count": 4,
   "id": "paperback-electric",
   "metadata": {},
   "outputs": [],
   "source": [
    "dtype_dict = {'bathrooms':float, 'waterfront':int, 'sqft_above':int, 'sqft_living15':float, 'grade':int, 'yr_renovated':int, 'price':float, 'bedrooms':float, 'zipcode':str, 'long':float, 'sqft_lot15':float, 'sqft_living':float, 'floors':float, 'condition':int, 'lat':float, 'date':str, 'sqft_basement':int, 'yr_built':int, 'id':str, 'sqft_lot':int, 'view':int}\n",
    "\n",
    "sales = pd.read_csv('kc_house_data.csv', dtype=dtype_dict)\n",
    "sales = sales.sort_values(['sqft_living','price'])"
   ]
  },
  {
   "cell_type": "markdown",
   "id": "dental-population",
   "metadata": {},
   "source": [
    "Create a 15th-order polynomial model fitted with an L2 penalty of 1.5e-5 (Regularization would make the solution numerically stable)"
   ]
  },
  {
   "cell_type": "code",
   "execution_count": 17,
   "id": "surface-fifth",
   "metadata": {},
   "outputs": [
    {
     "data": {
      "text/plain": [
       "125"
      ]
     },
     "execution_count": 17,
     "metadata": {},
     "output_type": "execute_result"
    }
   ],
   "source": [
    "l2_small_penalty = 1.5e-5\n",
    "poly15_data = polynomial_dataframe(sales['sqft_living'], 15)\n",
    "model = linear_model.Ridge(alpha=l2_small_penalty, normalize=True)\n",
    "model.fit(poly15_data, sales['price'])\n",
    "round(model.coef_[0])"
   ]
  },
  {
   "cell_type": "markdown",
   "id": "secure-mapping",
   "metadata": {},
   "source": [
    "Observe Overfitting"
   ]
  },
  {
   "cell_type": "code",
   "execution_count": 60,
   "id": "portable-paintball",
   "metadata": {},
   "outputs": [],
   "source": [
    "set_1 = pd.read_csv('wk3_kc_house_set_1_data.csv', dtype=dtype_dict)\n",
    "set_2 = pd.read_csv('wk3_kc_house_set_2_data.csv', dtype=dtype_dict)\n",
    "set_3 = pd.read_csv('wk3_kc_house_set_3_data.csv', dtype=dtype_dict)\n",
    "set_4 = pd.read_csv('wk3_kc_house_set_4_data.csv', dtype=dtype_dict)\n",
    "l2_small_penalty=1e-9"
   ]
  },
  {
   "cell_type": "code",
   "execution_count": 61,
   "id": "severe-browse",
   "metadata": {},
   "outputs": [],
   "source": [
    "def get_ridge_coefficient(df, penalty):\n",
    "    poly15_data = polynomial_dataframe(df['sqft_living'], 15)\n",
    "    model = linear_model.Ridge(alpha=penalty, normalize=True)\n",
    "    model.fit(poly15_data, df['price'])\n",
    "    print(model.coef_[0])"
   ]
  },
  {
   "cell_type": "code",
   "execution_count": 62,
   "id": "electric-impression",
   "metadata": {},
   "outputs": [
    {
     "name": "stdout",
     "output_type": "stream",
     "text": [
      "544.6693903291846\n",
      "859.3626475978917\n",
      "-755.3959047401938\n",
      "1119.4457483861213\n"
     ]
    }
   ],
   "source": [
    "for df in [set_1, set_2, set_3, set_4]:\n",
    "    get_ridge_coefficient(df, l2_small_penalty)"
   ]
  },
  {
   "cell_type": "markdown",
   "id": "permanent-printer",
   "metadata": {},
   "source": [
    "Ridge regression comes to rescue"
   ]
  },
  {
   "cell_type": "code",
   "execution_count": 14,
   "id": "competent-solid",
   "metadata": {},
   "outputs": [
    {
     "name": "stdout",
     "output_type": "stream",
     "text": [
      "2.328068029579326\n",
      "2.097569027778555\n",
      "2.289062581189205\n",
      "2.0859619409193066\n"
     ]
    }
   ],
   "source": [
    "l2_large_penalty=1.23e2\n",
    "for df in [set_1, set_2, set_3, set_4]:\n",
    "    get_ridge_coefficient(df, l2_large_penalty)"
   ]
  },
  {
   "cell_type": "markdown",
   "id": "geographic-compilation",
   "metadata": {},
   "source": [
    "Selecting an L2 penalty via cross-validation"
   ]
  },
  {
   "cell_type": "code",
   "execution_count": 15,
   "id": "ranking-shopper",
   "metadata": {},
   "outputs": [],
   "source": [
    "train_valid_shuffled = pd.read_csv('wk3_kc_house_train_valid_shuffled.csv', dtype=dtype_dict)\n",
    "test = pd.read_csv('wk3_kc_house_test_data.csv', dtype=dtype_dict)"
   ]
  },
  {
   "cell_type": "code",
   "execution_count": 35,
   "id": "confused-american",
   "metadata": {},
   "outputs": [],
   "source": [
    "def k_fold_cross_validation(k, l2_penalty, data, output):\n",
    "    \"\"\"\n",
    "    :param k: number of validation sets\n",
    "    :param l2_penalty: \n",
    "    :param data: dataframe containing input features\n",
    "    :param output: column of output values (e.g. price). \n",
    "    :return : average validation error\n",
    "    \"\"\"\n",
    "    validation_error = 0\n",
    "    for i in range(k):\n",
    "        # Compute starting and ending indices of segment i\n",
    "        start = round((n*i)/10)\n",
    "        end = round((n*(i+1))/10)\n",
    "        \n",
    "        # Form validation set by taking a slice (start:end+1) from the data\n",
    "        validation_set = data[start:end+1]\n",
    "        validation_output = output[start:end+1]\n",
    "        \n",
    "        # Form training set by appending slice (end+1:n) to the end of slice (0:start).\n",
    "        training_set = data[0:start].append(data[end+1:n])\n",
    "        training_output = output[0:start].append(output[end+1:n])\n",
    "        \n",
    "        # Train a linear model using training set just formed, with a given l2_penalty\n",
    "        model = linear_model.Ridge(alpha=l2_penalty, normalize=True)\n",
    "        model.fit(training_set, training_output)\n",
    "        \n",
    "        # Compute validation error (RSS) using validation set just formed\n",
    "        rss = sum((model.predict(validation_set) - validation_output)**2)\n",
    "        \n",
    "        validation_error += rss\n",
    "    \n",
    "    return validation_error/k\n"
   ]
  },
  {
   "cell_type": "markdown",
   "id": "charming-station",
   "metadata": {},
   "source": [
    " Once we have a function to compute the average validation error for a model, we can write a loop to find the model that minimizes the average validation error. Write a loop that does the following:\n",
    "\n",
    "- We will again be aiming to fit a 15th-order polynomial model using the sqft_living input\n",
    "- For each l2_penalty in [10^3, 10^3.5, 10^4, 10^4.5, ..., 10^9] (to get this in Python, you can use this Numpy function: np.logspace(3, 9, num=13).): Run 10-fold cross-validation with l2_penalty.\n",
    "- Report which L2 penalty produced the lowest average validation error.\n",
    "\n",
    "Note: since the degree of the polynomial is now fixed to 15, to make things faster, you should generate polynomial features in advance and re-use them throughout the loop. Make sure to use train_valid_shuffled when generating polynomial features!"
   ]
  },
  {
   "cell_type": "code",
   "execution_count": 29,
   "id": "infinite-hepatitis",
   "metadata": {},
   "outputs": [],
   "source": [
    "poly15_data = polynomial_dataframe(train_valid_shuffled['sqft_living'], 15)\n",
    "penalties = np.logspace(3, 9, num=13)"
   ]
  },
  {
   "cell_type": "code",
   "execution_count": 49,
   "id": "adequate-roberts",
   "metadata": {},
   "outputs": [],
   "source": [
    "result = []\n",
    "for penalty in penalties:\n",
    "    result.append({\"penalty\": penalty, \"error\": k_fold_cross_validation(10, penalty, poly15_data, train_valid_shuffled['price'])})"
   ]
  },
  {
   "cell_type": "code",
   "execution_count": 57,
   "id": "dress-prisoner",
   "metadata": {},
   "outputs": [
    {
     "data": {
      "text/plain": [
       "1000.0"
      ]
     },
     "execution_count": 57,
     "metadata": {},
     "output_type": "execute_result"
    }
   ],
   "source": [
    "pd.DataFrame.from_dict(result).sort_values(\"error\").iloc[0][\"penalty\"]"
   ]
  },
  {
   "cell_type": "markdown",
   "id": "unexpected-electric",
   "metadata": {},
   "source": [
    "Retrain a final model on all of the training data using this best l2_penalty value that yield smalles validation error. Then use this l2_penalty value to train a model using all training data, and find the RSS on the TEST data."
   ]
  },
  {
   "cell_type": "code",
   "execution_count": 59,
   "id": "fourth-advertising",
   "metadata": {},
   "outputs": [
    {
     "data": {
      "text/plain": [
       "'2.837569e+14'"
      ]
     },
     "execution_count": 59,
     "metadata": {},
     "output_type": "execute_result"
    }
   ],
   "source": [
    "train_data = pd.read_csv('wk3_kc_house_train_data.csv')\n",
    "test_data = pd.read_csv('wk3_kc_house_test_data.csv')\n",
    "\n",
    "poly15_train_data = polynomial_dataframe(train_data['sqft_living'], 15)\n",
    "model = linear_model.Ridge(alpha=1000, normalize=True)\n",
    "model.fit(poly15_train_data, train_data['price'])\n",
    "\n",
    "poly15_test_data = polynomial_dataframe(test_data['sqft_living'], 15)\n",
    "\"{:e}\".format(sum((model.predict(poly15_test_data) - test_data['price'])**2))"
   ]
  },
  {
   "cell_type": "markdown",
   "id": "popular-burton",
   "metadata": {},
   "source": [
    "### Implementing ridge regression via gradient descent ###"
   ]
  },
  {
   "cell_type": "code",
   "execution_count": 63,
   "id": "drawn-reasoning",
   "metadata": {},
   "outputs": [],
   "source": [
    "# functions copied from multiple regression module\n",
    "\n",
    "def get_numpy_data(df, features, output):\n",
    "    \"\"\"\n",
    "    Takes a data set df, a list of features, and a output name, \n",
    "    return a 2D array of feature matrix and 1D array of output\n",
    "    :param df: pandas dataframe of the data set\n",
    "    :param features: list of the feature names to be selected\n",
    "    :param output: name of the output\n",
    "    :return features_matrix: a 2D features_matrix including an additional column of 1s as the constant feature\n",
    "    :return output_array: a 1D array of output\n",
    "    \"\"\"\n",
    "    # add a constant column\n",
    "    df['constant'] = 1 \n",
    "    # prepend variable 'constant' to the features list\n",
    "    features = ['constant'] + features\n",
    "    \n",
    "    # convert the features into a numpy matrix\n",
    "    features_matrix = df[features].to_numpy()\n",
    "    # convert the pandas Series into a numpy array\n",
    "    output_array = df[output].to_numpy()\n",
    "    output_array = output_array.reshape(output_array.shape[0],1)\n",
    "    \n",
    "    return features_matrix, output_array\n",
    "\n",
    "\n",
    "def predict_outcome(feature_matrix, weights):\n",
    "    \"\"\"\n",
    "    Predict outcome based on the feature matrix and weights given\n",
    "    :param feature_matrix: 2D matrix of features with a shape of N observations * D features (N*D)\n",
    "    :param weights: 1D array of weights with D features (D*1)\n",
    "    :return predictions: 1D array of N predicted outcome (N*1)\n",
    "    \"\"\"\n",
    "    predictions = np.dot(feature_matrix, weights)\n",
    "    predictions = predictions.reshape(predictions.shape[0],1)\n",
    "    return predictions\n"
   ]
  },
  {
   "cell_type": "code",
   "execution_count": 292,
   "id": "intellectual-bangkok",
   "metadata": {},
   "outputs": [],
   "source": [
    "def feature_derivative_ridge(errors, feature, weight, l2_penalty, feature_is_constant):\n",
    "    \n",
    "    # Recall that twice the sum of the product of two vectors is just twice the dot product of the two vectors. \n",
    "    # Therefore the derivative for the weight for feature_i is just two times the dot product between the values \n",
    "    # of feature_i and the current errors, plus 2*l2_penalty*w[i].\n",
    "    \n",
    "    derivative = 2*np.dot(feature, errors)\n",
    "    if feature_is_constant == False:\n",
    "        derivative = derivative + np.array(2*l2_penalty*weight)\n",
    "    return derivative"
   ]
  },
  {
   "cell_type": "markdown",
   "id": "noticed-drill",
   "metadata": {},
   "source": [
    "Now we will write a function that performs a gradient descent. The basic premise is simple. Given a starting point we update the current weights by moving in the negative gradient direction. Recall that the gradient is the direction of increase and therefore the negative gradient is the direction of decrease and we're trying to minimize a cost function. \n",
    "\n",
    "The amount by which we move in the negative gradient direction is called the ‘step size’. We stop when we are ‘sufficiently close’ to the optimum. Unlike in Module 2, this time we will set a maximum number of iterations and take gradient steps until we reach this maximum number. If no maximum number is supplied, the maximum should be set 100 by default. (Use default parameter values in Python.)\n",
    "\n",
    "With this in mind, write a gradient descent function using your derivative function above. For each step in the gradient descent, we update the weight for each feature before computing our stopping criteria.  The function will take the following parameters:\n",
    "\n",
    "- 2D feature matrix\n",
    "- array of output values\n",
    "- initial weights\n",
    "- step size\n",
    "- L2 penalty\n",
    "- maximum number of iterations\n"
   ]
  },
  {
   "cell_type": "code",
   "execution_count": 288,
   "id": "rational-device",
   "metadata": {},
   "outputs": [],
   "source": [
    "def ridge_regression_gradient_descent(feature_matrix, output, initial_weights, step_size, l2_penalty, max_iterations=100):\n",
    "    weights = np.array(initial_weights) # make sure it's a numpy array\n",
    "    t = 0  # initiate iterations\n",
    "    \n",
    "    while t < max_iterations:\n",
    "        #while not reached maximum number of iterations:\n",
    "        # compute the predictions using your predict_output() function\n",
    "        predictions = predict_outcome(feature_matrix, weights)\n",
    "        \n",
    "        # compute the errors as predictions - output\n",
    "        errors = predictions - output\n",
    "        for i in range(len(weights)): # loop over each weight\n",
    "            # Recall that feature_matrix[:,i] is the feature column associated with weights[i]\n",
    "            # compute the derivative for weight[i].\n",
    "            #(Remember: when i=0, you are computing the derivative of the constant!)\n",
    "            feature_is_constant = True if i == 0 else False\n",
    "            derivative = feature_derivative_ridge(errors, feature_matrix[:,i], weights[i], l2_penalty, feature_is_constant)\n",
    "\n",
    "            # subtract the step size times the derivative from the current weight  \n",
    "            weights[i] = weights[i] - step_size*derivative\n",
    "        \n",
    "        t = t + 1\n",
    "    return weights\n"
   ]
  },
  {
   "cell_type": "code",
   "execution_count": 275,
   "id": "jewish-tampa",
   "metadata": {},
   "outputs": [],
   "source": [
    "### Single Feature Model with 'sqft_living' ###\n",
    "simple_features = ['sqft_living']\n",
    "my_output = 'price'\n",
    "simple_feature_matrix, output = get_numpy_data(train_data, simple_features, my_output)\n",
    "simple_test_feature_matrix, test_output = get_numpy_data(test_data, simple_features, my_output)"
   ]
  },
  {
   "cell_type": "code",
   "execution_count": 294,
   "id": "approved-custody",
   "metadata": {},
   "outputs": [],
   "source": [
    "# No regularization\n",
    "simple_weights_0_penalty = ridge_regression_gradient_descent(\n",
    "    simple_feature_matrix, output, np.array([0.,0.]), 1e-12, 0.0, 1000)\n",
    "\n",
    "# Regularization with L2 penalty at 1e11\n",
    "simple_weights_high_penalty = ridge_regression_gradient_descent(\n",
    "    simple_feature_matrix, output, np.array([0.,0.]), 1e-12, 1e11, 1000)"
   ]
  },
  {
   "cell_type": "code",
   "execution_count": 290,
   "id": "mighty-tsunami",
   "metadata": {},
   "outputs": [
    {
     "data": {
      "text/plain": [
       "[<matplotlib.lines.Line2D at 0x7fb0c99a9340>,\n",
       " <matplotlib.lines.Line2D at 0x7fb0c99a9400>,\n",
       " <matplotlib.lines.Line2D at 0x7fb0c99a91c0>,\n",
       " <matplotlib.lines.Line2D at 0x7fb0c99a95b0>,\n",
       " <matplotlib.lines.Line2D at 0x7fb0c99a9370>,\n",
       " <matplotlib.lines.Line2D at 0x7fb0c99a9730>]"
      ]
     },
     "execution_count": 290,
     "metadata": {},
     "output_type": "execute_result"
    },
    {
     "data": {
      "image/png": "[encoded data removed]",
      "text/plain": [
       "<Figure size 432x288 with 1 Axes>"
      ]
     },
     "metadata": {
      "needs_background": "light"
     },
     "output_type": "display_data"
    }
   ],
   "source": [
    "import matplotlib.pyplot as plt\n",
    "%matplotlib inline\n",
    "plt.plot(simple_feature_matrix,output,'k.',\n",
    "        simple_feature_matrix,predict_outcome(simple_feature_matrix, simple_weights_0_penalty),'b-',\n",
    "        simple_feature_matrix,predict_outcome(simple_feature_matrix, simple_weights_high_penalty),'r-')"
   ]
  },
  {
   "cell_type": "code",
   "execution_count": 285,
   "id": "optional-conference",
   "metadata": {},
   "outputs": [],
   "source": [
    "### Model with two features ###\n",
    "model_features = ['sqft_living', 'sqft_living15']\n",
    "my_output = 'price'\n",
    "feature_matrix, output = get_numpy_data(train_data, model_features, my_output)\n",
    "test_feature_matrix, test_output = get_numpy_data(test_data, model_features, my_output)"
   ]
  },
  {
   "cell_type": "code",
   "execution_count": 286,
   "id": "magnetic-march",
   "metadata": {},
   "outputs": [],
   "source": [
    "multiple_weights_0_penalty = ridge_regression_gradient_descent(\n",
    "    feature_matrix, output, np.array([0.,0.,0.]), 1e-12, 0, 1000)\n",
    "multiple_weights_high_penalty = ridge_regression_gradient_descent(\n",
    "    feature_matrix, output, np.array([0.,0.,0.]), 1e-12, 1e11, 1000)"
   ]
  }
 ],
 "metadata": {
  "kernelspec": {
   "display_name": "Python 3",
   "language": "python",
   "name": "python3"
  },
  "language_info": {
   "codemirror_mode": {
    "name": "ipython",
    "version": 3
   },
   "file_extension": ".py",
   "mimetype": "text/x-python",
   "name": "python",
   "nbconvert_exporter": "python",
   "pygments_lexer": "ipython3",
   "version": "3.9.1"
  }
 },
 "nbformat": 4,
 "nbformat_minor": 5
}
